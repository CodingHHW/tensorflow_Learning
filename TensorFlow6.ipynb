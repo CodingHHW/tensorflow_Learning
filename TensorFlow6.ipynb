{
 "cells": [
  {
   "cell_type": "markdown",
   "metadata": {},
   "source": [
    "# tensorboard 可视化"
   ]
  },
  {
   "cell_type": "code",
   "execution_count": 1,
   "metadata": {
    "ExecuteTime": {
     "end_time": "2017-02-26T15:51:20.023458",
     "start_time": "2017-02-26T15:51:17.614030"
    },
    "collapsed": true
   },
   "outputs": [],
   "source": [
    "import tensorflow as tf\n",
    "from sklearn.datasets import load_digits\n",
    "from sklearn.cross_validation import train_test_split\n",
    "from sklearn.preprocessing import LabelBinarizer # 独热处理\n",
    "import pandas as pd"
   ]
  },
  {
   "cell_type": "markdown",
   "metadata": {},
   "source": [
    "导入数据集，使用sklearn中的load_digits"
   ]
  },
  {
   "cell_type": "code",
   "execution_count": 2,
   "metadata": {
    "ExecuteTime": {
     "end_time": "2017-02-26T15:51:20.175094",
     "start_time": "2017-02-26T15:51:20.025724"
    },
    "collapsed": false
   },
   "outputs": [
    {
     "name": "stdout",
     "output_type": "stream",
     "text": [
      "(1797, 64)\n",
      "(1797,)\n",
      "(1797, 10)\n",
      "(1257, 64) (1257, 10)\n",
      "(540, 64) (540, 10)\n"
     ]
    }
   ],
   "source": [
    "digits = load_digits()\n",
    "X = digits.data\n",
    "y = digits.target\n",
    "print X.shape\n",
    "print y.shape\n",
    "y = LabelBinarizer().fit_transform(y)\n",
    "print y.shape\n",
    "X_train, X_test, y_train, y_test = train_test_split(X, y, test_size = 0.3)\n",
    "print X_train.shape, y_train.shape\n",
    "print X_test.shape, y_test.shape"
   ]
  },
  {
   "cell_type": "code",
   "execution_count": 3,
   "metadata": {
    "ExecuteTime": {
     "end_time": "2017-02-26T15:51:20.194509",
     "start_time": "2017-02-26T15:51:20.177712"
    },
    "collapsed": false
   },
   "outputs": [],
   "source": [
    "def add_layer(inputs, in_size, out_size, n_layer, activation_function=None):\n",
    "    layer_name = 'layer%s' % n_layer\n",
    "    with tf.name_scope(layer_name):\n",
    "        with tf.name_scope('weights'):\n",
    "            Weights = tf.Variable(tf.random_normal([in_size, out_size]), name='W')\n",
    "            tf.summary.histogram(layer_name + '/weights', Weights)\n",
    "        with tf.name_scope('biases'):\n",
    "            biases = tf.Variable(tf.zeros([1, out_size]) + 0.1, name='b')\n",
    "            tf.summary.histogram(layer_name + '/biases', biases)\n",
    "        with tf.name_scope('Wx_plus_b'):\n",
    "            Wx_plus_b = tf.matmul(inputs, Weights) + biases\n",
    "            # here to dropout\n",
    "            Wx_plus_b = tf.nn.dropout(Wx_plus_b, keep_prob)\n",
    "            tf.summary.histogram(layer_name + '/Wx_plus_b', Wx_plus_b)\n",
    "        if activation_function is None:\n",
    "            outputs = Wx_plus_b\n",
    "        else:\n",
    "            outputs = activation_function(Wx_plus_b)\n",
    "        tf.summary.histogram(layer_name + '/outputs', outputs)\n",
    "    return outputs"
   ]
  },
  {
   "cell_type": "code",
   "execution_count": 4,
   "metadata": {
    "ExecuteTime": {
     "end_time": "2017-02-26T15:51:20.223345",
     "start_time": "2017-02-26T15:51:20.199078"
    },
    "collapsed": false
   },
   "outputs": [],
   "source": [
    "with tf.name_scope('inputs'):\n",
    "    keep_prob = tf.placeholder(tf.float32, name='drop_prob')\n",
    "    xs = tf.placeholder(tf.float32, [None, 64], name='x_input')  # 8x8\n",
    "    ys = tf.placeholder(tf.float32, [None, 10], name='y_input')"
   ]
  },
  {
   "cell_type": "markdown",
   "metadata": {},
   "source": [
    "搭建三层神经网络，隐藏层50个神经元"
   ]
  },
  {
   "cell_type": "code",
   "execution_count": 5,
   "metadata": {
    "ExecuteTime": {
     "end_time": "2017-02-26T15:51:20.379993",
     "start_time": "2017-02-26T15:51:20.226132"
    },
    "collapsed": false
   },
   "outputs": [],
   "source": [
    "l1 = add_layer(xs, 64, 50, n_layer=1, activation_function=tf.nn.sigmoid) # 这里激活函数用relu报错，why？\n",
    "prediction = add_layer(l1, 50, 10, n_layer=2, activation_function=tf.nn.softmax)"
   ]
  },
  {
   "cell_type": "code",
   "execution_count": 6,
   "metadata": {
    "ExecuteTime": {
     "end_time": "2017-02-26T15:51:20.640344",
     "start_time": "2017-02-26T15:51:20.382292"
    },
    "collapsed": true
   },
   "outputs": [],
   "source": [
    "with tf.name_scope('cross_entropy'):\n",
    "    # 优化函数选用交叉熵，如果完全相同则为0\n",
    "    cross_entropy = tf.reduce_mean(-tf.reduce_sum(ys * tf.log(prediction), reduction_indices=[1]))\n",
    "    tf.summary.scalar('loss', cross_entropy)\n",
    "with tf.name_scope('train_step'):\n",
    "    # 优化算法使用梯度下降法\n",
    "    train_step = tf.train.GradientDescentOptimizer(0.5).minimize(cross_entropy) # 不断下降交叉熵使其降为0"
   ]
  },
  {
   "cell_type": "code",
   "execution_count": 7,
   "metadata": {
    "ExecuteTime": {
     "end_time": "2017-02-26T15:51:21.594677",
     "start_time": "2017-02-26T15:51:20.642619"
    },
    "collapsed": false
   },
   "outputs": [],
   "source": [
    "sess = tf.Session()\n",
    "merged = tf.summary.merge_all()\n",
    "train_writer = tf.summary.FileWriter('logs/train', sess.graph)\n",
    "test_writer = tf.summary.FileWriter('logs/test', sess.graph)\n",
    "init = tf.global_variables_initializer()\n",
    "sess.run(init)"
   ]
  },
  {
   "cell_type": "code",
   "execution_count": 8,
   "metadata": {
    "ExecuteTime": {
     "end_time": "2017-02-26T15:51:25.937445",
     "start_time": "2017-02-26T15:51:21.596734"
    },
    "collapsed": false
   },
   "outputs": [],
   "source": [
    "for i in range(500):\n",
    "    # here to determine the keeping probability\n",
    "    sess.run(train_step, feed_dict={xs: X_train, ys: y_train, keep_prob: 0.5})\n",
    "    if i % 50 == 0:\n",
    "        # record loss\n",
    "        train_result = sess.run(merged, feed_dict={xs: X_train, ys: y_train, keep_prob: 1})\n",
    "        test_result = sess.run(merged, feed_dict={xs: X_test, ys: y_test, keep_prob: 1})\n",
    "        train_writer.add_summary(train_result, i)\n",
    "        test_writer.add_summary(test_result, i)"
   ]
  },
  {
   "cell_type": "markdown",
   "metadata": {},
   "source": [
    "查看对test上的预测结果"
   ]
  },
  {
   "cell_type": "code",
   "execution_count": 9,
   "metadata": {
    "ExecuteTime": {
     "end_time": "2017-02-26T15:51:25.969147",
     "start_time": "2017-02-26T15:51:25.940753"
    },
    "collapsed": false
   },
   "outputs": [],
   "source": [
    "result_l1 = sess.run(l1, feed_dict={xs: X_test, keep_prob: 1}) # 隐藏层的计算结果\n",
    "result_prediction = sess.run(prediction, feed_dict={l1: result_l1, keep_prob: 1}) # 输出层的计算结果"
   ]
  },
  {
   "cell_type": "code",
   "execution_count": 10,
   "metadata": {
    "ExecuteTime": {
     "end_time": "2017-02-26T15:51:25.977122",
     "start_time": "2017-02-26T15:51:25.972478"
    },
    "collapsed": false
   },
   "outputs": [
    {
     "name": "stdout",
     "output_type": "stream",
     "text": [
      "(540, 50)\n",
      "(540, 10)\n"
     ]
    }
   ],
   "source": [
    "print result_l1.shape\n",
    "print result_prediction.shape"
   ]
  },
  {
   "cell_type": "code",
   "execution_count": 11,
   "metadata": {
    "ExecuteTime": {
     "end_time": "2017-02-26T15:51:25.984813",
     "start_time": "2017-02-26T15:51:25.979725"
    },
    "collapsed": false
   },
   "outputs": [
    {
     "name": "stdout",
     "output_type": "stream",
     "text": [
      "[  7.83409923e-03   6.79480704e-03   1.05691666e-03   6.48248097e-05\n",
      "   3.51889059e-03   1.31188659e-02   1.43297412e-03   1.59399621e-02\n",
      "   9.44342196e-01   5.89638297e-03]\n"
     ]
    }
   ],
   "source": [
    "print result_prediction[0] # 可以看到这里的计算结果是概率，并且二号位上概率最大"
   ]
  },
  {
   "cell_type": "code",
   "execution_count": 12,
   "metadata": {
    "ExecuteTime": {
     "end_time": "2017-02-26T15:51:25.994024",
     "start_time": "2017-02-26T15:51:25.987789"
    },
    "collapsed": false
   },
   "outputs": [
    {
     "name": "stdout",
     "output_type": "stream",
     "text": [
      "[0 0 0 0 0 0 0 0 1 0]\n"
     ]
    }
   ],
   "source": [
    "print y_test[0]"
   ]
  },
  {
   "cell_type": "code",
   "execution_count": 13,
   "metadata": {
    "ExecuteTime": {
     "end_time": "2017-02-26T15:51:26.071263",
     "start_time": "2017-02-26T15:51:25.996926"
    },
    "collapsed": false
   },
   "outputs": [
    {
     "data": {
      "text/plain": [
       "array([8, 2, 0, 8, 2, 2, 4, 3, 3, 4, 6, 8, 9, 4, 0, 8, 3, 7, 6, 0, 3, 6, 8,\n",
       "       3, 9, 9, 7, 6, 6, 7, 2, 5, 2, 6, 8, 5, 1, 2, 8, 2, 3, 3, 7, 5, 0, 9,\n",
       "       2, 0, 2, 9, 4, 0, 6, 8, 7, 7, 7, 8, 9, 6, 3, 5, 1, 3, 5, 6, 3, 1, 0,\n",
       "       2, 0, 3, 2, 2, 2, 8, 3, 9, 9, 4, 1, 6, 9, 7, 9, 4, 0, 4, 1, 6, 3, 2,\n",
       "       6, 2, 8, 1, 3, 8, 0, 6, 4, 0, 4, 1, 8, 9, 2, 9, 3, 1, 1, 2, 5, 8, 7,\n",
       "       8, 3, 3, 7, 3, 2, 1, 7, 8, 3, 5, 5, 3, 0, 5, 3, 0, 6, 2, 2, 2, 4, 0,\n",
       "       5, 8, 5, 2, 6, 6, 2, 4, 7, 4, 9, 8, 5, 8, 7, 0, 5, 4, 0, 2, 9, 4, 0,\n",
       "       0, 9, 0, 9, 0, 8, 4, 0, 0, 3, 9, 2, 2, 3, 2, 8, 9, 2, 9, 4, 8, 7, 1,\n",
       "       5, 5, 2, 9, 6, 3, 8, 4, 6, 8, 5, 5, 4, 7, 1, 0, 7, 4, 1, 0, 7, 8, 5,\n",
       "       0, 2, 5, 3, 1, 5, 8, 8, 9, 5, 5, 9, 8, 1, 9, 1, 0, 0, 9, 0, 6, 2, 3,\n",
       "       7, 0, 2, 4, 7, 7, 2, 9, 2, 8, 5, 0, 8, 8, 0, 5, 9, 3, 4, 5, 6, 5, 9,\n",
       "       6, 1, 6, 9, 2, 1, 6, 5, 0, 4, 1, 6, 9, 7, 6, 2, 9, 1, 7, 1, 3, 8, 3,\n",
       "       4, 1, 0, 1, 1, 2, 1, 6, 8, 7, 3, 1, 5, 7, 9, 6, 6, 5, 0, 6, 2, 4, 1,\n",
       "       8, 0, 4, 0, 2, 7, 5, 6, 8, 7, 3, 5, 8, 7, 0, 2, 0, 3, 4, 1, 6, 6, 9,\n",
       "       1, 8, 8, 6, 7, 7, 6, 9, 5, 7, 2, 1, 0, 0, 2, 8, 2, 6, 4, 6, 7, 8, 3,\n",
       "       0, 5, 4, 0, 0, 4, 5, 0, 3, 8, 9, 8, 6, 6, 0, 4, 4, 0, 8, 4, 8, 5, 1,\n",
       "       4, 0, 3, 3, 4, 3, 1, 5, 1, 3, 3, 1, 6, 7, 7, 1, 1, 2, 3, 8, 0, 5, 7,\n",
       "       1, 7, 8, 9, 7, 2, 4, 0, 0, 8, 1, 9, 2, 8, 5, 1, 3, 6, 2, 2, 6, 5, 1,\n",
       "       8, 4, 2, 7, 0, 5, 2, 5, 6, 7, 0, 6, 5, 5, 3, 9, 6, 3, 4, 9, 5, 1, 2,\n",
       "       1, 3, 5, 1, 9, 2, 1, 4, 4, 4, 5, 8, 7, 0, 8, 6, 1, 8, 2, 6, 7, 0, 7,\n",
       "       1, 5, 8, 8, 8, 2, 9, 8, 9, 5, 1, 9, 1, 9, 5, 3, 8, 2, 1, 3, 7, 1, 7,\n",
       "       3, 1, 3, 0, 0, 2, 3, 3, 6, 6, 3, 2, 2, 7, 1, 4, 4, 4, 2, 8, 1, 4, 7,\n",
       "       2, 1, 6, 9, 2, 1, 6, 5, 1, 7, 3, 8, 5, 2, 6, 5, 1, 2, 3, 6, 4, 9, 3,\n",
       "       7, 5, 7, 7, 3, 9, 6, 2, 0, 1, 5])"
      ]
     },
     "execution_count": 13,
     "metadata": {},
     "output_type": "execute_result"
    }
   ],
   "source": [
    "# 这个就是预测结果\n",
    "sess.run(tf.arg_max(result_prediction, 1))"
   ]
  },
  {
   "cell_type": "code",
   "execution_count": 14,
   "metadata": {
    "ExecuteTime": {
     "end_time": "2017-02-26T15:51:26.102919",
     "start_time": "2017-02-26T15:51:26.075418"
    },
    "collapsed": false
   },
   "outputs": [
    {
     "data": {
      "text/plain": [
       "array([8, 2, 0, 3, 2, 2, 4, 3, 9, 4, 6, 8, 9, 4, 0, 8, 3, 7, 6, 0, 2, 6, 8,\n",
       "       9, 9, 9, 7, 6, 6, 7, 2, 8, 2, 6, 8, 5, 2, 2, 8, 2, 3, 3, 7, 5, 0, 9,\n",
       "       2, 0, 2, 9, 4, 0, 6, 8, 7, 4, 7, 8, 9, 6, 8, 6, 1, 9, 5, 6, 3, 1, 0,\n",
       "       2, 0, 3, 2, 2, 2, 8, 9, 9, 9, 4, 1, 6, 9, 7, 9, 4, 0, 4, 1, 6, 3, 2,\n",
       "       6, 2, 8, 1, 3, 8, 0, 6, 4, 0, 4, 1, 8, 9, 2, 9, 3, 1, 1, 2, 5, 8, 7,\n",
       "       8, 9, 3, 7, 3, 2, 1, 7, 9, 3, 5, 5, 3, 4, 5, 8, 0, 6, 2, 2, 2, 4, 6,\n",
       "       5, 8, 9, 2, 6, 6, 2, 4, 7, 4, 9, 8, 5, 8, 7, 0, 5, 4, 0, 2, 9, 4, 6,\n",
       "       0, 9, 0, 9, 0, 8, 4, 6, 0, 3, 9, 2, 2, 3, 2, 8, 5, 2, 9, 4, 8, 9, 1,\n",
       "       5, 5, 2, 9, 6, 3, 8, 4, 6, 8, 5, 5, 4, 7, 1, 0, 7, 4, 1, 0, 7, 6, 5,\n",
       "       0, 8, 5, 3, 3, 5, 8, 4, 9, 5, 5, 9, 8, 5, 9, 1, 0, 0, 9, 5, 6, 2, 3,\n",
       "       7, 0, 2, 4, 7, 7, 2, 9, 2, 8, 5, 0, 8, 8, 0, 5, 8, 3, 4, 5, 6, 5, 9,\n",
       "       6, 1, 6, 9, 2, 1, 6, 9, 0, 4, 1, 6, 9, 7, 6, 2, 9, 9, 7, 1, 3, 8, 3,\n",
       "       4, 1, 0, 1, 1, 8, 1, 6, 8, 7, 9, 1, 5, 7, 9, 6, 6, 5, 0, 6, 2, 4, 1,\n",
       "       8, 5, 4, 8, 2, 7, 5, 6, 7, 7, 3, 5, 8, 7, 0, 2, 0, 3, 4, 1, 6, 6, 9,\n",
       "       8, 6, 1, 6, 7, 7, 6, 9, 5, 7, 2, 1, 0, 0, 2, 8, 2, 6, 4, 6, 7, 8, 3,\n",
       "       0, 5, 4, 0, 0, 4, 3, 0, 8, 8, 9, 8, 6, 6, 0, 4, 4, 0, 8, 4, 8, 5, 1,\n",
       "       4, 0, 3, 3, 4, 2, 8, 5, 1, 3, 3, 1, 6, 7, 7, 4, 1, 8, 3, 6, 0, 5, 7,\n",
       "       1, 7, 8, 9, 7, 2, 4, 0, 0, 8, 1, 9, 2, 3, 5, 1, 3, 6, 2, 2, 6, 5, 9,\n",
       "       8, 4, 2, 7, 0, 5, 2, 5, 6, 7, 0, 6, 5, 5, 3, 9, 0, 3, 4, 9, 5, 1, 2,\n",
       "       1, 3, 9, 1, 9, 2, 1, 4, 4, 4, 5, 8, 7, 0, 8, 6, 1, 8, 2, 6, 7, 0, 3,\n",
       "       8, 3, 8, 8, 1, 2, 9, 8, 9, 5, 8, 9, 8, 1, 5, 3, 8, 1, 1, 3, 7, 1, 7,\n",
       "       3, 3, 3, 0, 0, 2, 3, 3, 6, 6, 3, 2, 2, 7, 1, 4, 4, 4, 2, 8, 1, 4, 7,\n",
       "       1, 1, 6, 1, 2, 1, 6, 5, 1, 9, 3, 8, 5, 2, 6, 5, 1, 2, 3, 6, 4, 1, 3,\n",
       "       7, 5, 7, 7, 3, 9, 6, 2, 0, 1, 5])"
      ]
     },
     "execution_count": 14,
     "metadata": {},
     "output_type": "execute_result"
    }
   ],
   "source": [
    "# 这个是测试值\n",
    "sess.run(tf.arg_max(y_test, 1))"
   ]
  },
  {
   "cell_type": "code",
   "execution_count": 15,
   "metadata": {
    "ExecuteTime": {
     "end_time": "2017-02-26T15:51:26.142269",
     "start_time": "2017-02-26T15:51:26.105248"
    },
    "collapsed": false
   },
   "outputs": [
    {
     "data": {
      "text/plain": [
       "array([ True,  True,  True, False,  True,  True,  True,  True, False,\n",
       "        True,  True,  True,  True,  True,  True,  True,  True,  True,\n",
       "        True,  True, False,  True,  True, False,  True,  True,  True,\n",
       "        True,  True,  True,  True, False,  True,  True,  True,  True,\n",
       "       False,  True,  True,  True,  True,  True,  True,  True,  True,\n",
       "        True,  True,  True,  True,  True,  True,  True,  True,  True,\n",
       "        True, False,  True,  True,  True,  True, False, False,  True,\n",
       "       False,  True,  True,  True,  True,  True,  True,  True,  True,\n",
       "        True,  True,  True,  True, False,  True,  True,  True,  True,\n",
       "        True,  True,  True,  True,  True,  True,  True,  True,  True,\n",
       "        True,  True,  True,  True,  True,  True,  True,  True,  True,\n",
       "        True,  True,  True,  True,  True,  True,  True,  True,  True,\n",
       "        True,  True,  True,  True,  True,  True,  True,  True, False,\n",
       "        True,  True,  True,  True,  True,  True, False,  True,  True,\n",
       "        True,  True, False,  True, False,  True,  True,  True,  True,\n",
       "        True,  True, False,  True,  True, False,  True,  True,  True,\n",
       "        True,  True,  True,  True,  True,  True,  True,  True,  True,\n",
       "        True,  True,  True,  True,  True,  True,  True, False,  True,\n",
       "        True,  True,  True,  True,  True,  True, False,  True,  True,\n",
       "        True,  True,  True,  True,  True,  True, False,  True,  True,\n",
       "        True,  True, False,  True,  True,  True,  True,  True,  True,\n",
       "        True,  True,  True,  True,  True,  True,  True,  True,  True,\n",
       "        True,  True,  True,  True,  True,  True,  True, False,  True,\n",
       "        True, False,  True,  True, False,  True,  True, False,  True,\n",
       "        True,  True,  True,  True, False,  True,  True,  True,  True,\n",
       "        True, False,  True,  True,  True,  True,  True,  True,  True,\n",
       "        True,  True,  True,  True,  True,  True,  True,  True,  True,\n",
       "        True,  True,  True, False,  True,  True,  True,  True,  True,\n",
       "        True,  True,  True,  True,  True,  True,  True,  True, False,\n",
       "        True,  True,  True,  True,  True,  True,  True,  True,  True,\n",
       "       False,  True,  True,  True,  True,  True,  True,  True,  True,\n",
       "        True,  True, False,  True,  True,  True,  True, False,  True,\n",
       "        True,  True,  True,  True,  True,  True,  True,  True,  True,\n",
       "        True,  True,  True, False,  True, False,  True,  True,  True,\n",
       "        True, False,  True,  True,  True,  True,  True,  True,  True,\n",
       "        True,  True,  True,  True,  True,  True,  True, False, False,\n",
       "       False,  True,  True,  True,  True,  True,  True,  True,  True,\n",
       "        True,  True,  True,  True,  True,  True,  True,  True,  True,\n",
       "        True,  True,  True,  True,  True,  True,  True,  True,  True,\n",
       "       False,  True, False,  True,  True,  True,  True,  True,  True,\n",
       "        True,  True,  True,  True,  True,  True,  True,  True,  True,\n",
       "        True,  True,  True,  True, False, False,  True,  True,  True,\n",
       "        True,  True,  True,  True,  True, False,  True, False,  True,\n",
       "       False,  True,  True,  True,  True,  True,  True,  True,  True,\n",
       "        True,  True,  True,  True,  True,  True,  True,  True, False,\n",
       "        True,  True,  True,  True,  True,  True,  True,  True, False,\n",
       "        True,  True,  True,  True,  True,  True,  True,  True,  True,\n",
       "        True,  True,  True,  True,  True,  True,  True, False,  True,\n",
       "        True,  True,  True,  True,  True,  True,  True, False,  True,\n",
       "        True,  True,  True,  True,  True,  True,  True,  True,  True,\n",
       "        True,  True,  True,  True,  True,  True,  True,  True,  True,\n",
       "       False, False, False,  True,  True, False,  True,  True,  True,\n",
       "        True,  True, False,  True, False, False,  True,  True,  True,\n",
       "       False,  True,  True,  True,  True,  True,  True, False,  True,\n",
       "        True,  True,  True,  True,  True,  True,  True,  True,  True,\n",
       "        True,  True,  True,  True,  True,  True,  True,  True,  True,\n",
       "        True,  True, False,  True,  True, False,  True,  True,  True,\n",
       "        True,  True, False,  True,  True,  True,  True,  True,  True,\n",
       "        True,  True,  True,  True,  True, False,  True,  True,  True,\n",
       "        True,  True,  True,  True,  True,  True,  True,  True,  True], dtype=bool)"
      ]
     },
     "execution_count": 15,
     "metadata": {},
     "output_type": "execute_result"
    }
   ],
   "source": [
    "# 结果正确为1，反之0\n",
    "sess.run(tf.equal(tf.arg_max(result_prediction, 1), tf.arg_max(y_test, 1)))"
   ]
  },
  {
   "cell_type": "code",
   "execution_count": 16,
   "metadata": {
    "ExecuteTime": {
     "end_time": "2017-02-26T15:51:26.193063",
     "start_time": "2017-02-26T15:51:26.150388"
    },
    "collapsed": false
   },
   "outputs": [
    {
     "data": {
      "text/plain": [
       "0.88518518"
      ]
     },
     "execution_count": 16,
     "metadata": {},
     "output_type": "execute_result"
    }
   ],
   "source": [
    "correct_prediction = tf.equal(tf.argmax(result_prediction,1), tf.argmax(y_test,1))\n",
    "sess.run(tf.reduce_mean(tf.cast(correct_prediction, tf.float32)))"
   ]
  },
  {
   "cell_type": "markdown",
   "metadata": {},
   "source": [
    "准确率为0.896"
   ]
  },
  {
   "cell_type": "markdown",
   "metadata": {},
   "source": [
    "运行结束，终端运行tensorboard --logdir='logs/'"
   ]
  }
 ],
 "metadata": {
  "anaconda-cloud": {},
  "kernelspec": {
   "display_name": "Python [conda root]",
   "language": "python",
   "name": "conda-root-py"
  },
  "language_info": {
   "codemirror_mode": {
    "name": "ipython",
    "version": 2
   },
   "file_extension": ".py",
   "mimetype": "text/x-python",
   "name": "python",
   "nbconvert_exporter": "python",
   "pygments_lexer": "ipython2",
   "version": "2.7.12"
  },
  "toc": {
   "colors": {
    "hover_highlight": "#DAA520",
    "running_highlight": "#FF0000",
    "selected_highlight": "#FFD700"
   },
   "moveMenuLeft": true,
   "nav_menu": {
    "height": "30px",
    "width": "252px"
   },
   "navigate_menu": true,
   "number_sections": true,
   "sideBar": true,
   "threshold": 4,
   "toc_cell": false,
   "toc_section_display": "block",
   "toc_window_display": false
  }
 },
 "nbformat": 4,
 "nbformat_minor": 1
}
