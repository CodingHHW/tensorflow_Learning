{
 "cells": [
  {
   "cell_type": "markdown",
   "metadata": {},
   "source": [
    "# TensorFlow基本使用"
   ]
  },
  {
   "cell_type": "code",
   "execution_count": 1,
   "metadata": {
    "collapsed": true
   },
   "outputs": [],
   "source": [
    "import tensorflow as tf\n",
    "import numpy as np\n",
    "import matplotlib.pyplot as plt"
   ]
  },
  {
   "cell_type": "markdown",
   "metadata": {},
   "source": [
    "构建测试数据"
   ]
  },
  {
   "cell_type": "code",
   "execution_count": 2,
   "metadata": {
    "collapsed": false
   },
   "outputs": [
    {
     "data": {
      "text/plain": [
       "(100,)"
      ]
     },
     "execution_count": 2,
     "metadata": {},
     "output_type": "execute_result"
    }
   ],
   "source": [
    "x_data = np.random.rand(100).astype(np.float32) # tf 内置float为32\n",
    "y_data = x_data * 0.1 + 0.3\n",
    "x_data.shape"
   ]
  },
  {
   "cell_type": "code",
   "execution_count": 3,
   "metadata": {
    "collapsed": false
   },
   "outputs": [
    {
     "data": {
      "image/png": "[encoded data removed]",
      "text/plain": [
       "<matplotlib.figure.Figure at 0x111b2ea50>"
      ]
     },
     "metadata": {},
     "output_type": "display_data"
    }
   ],
   "source": [
    "plt.scatter(x_data, y_data)\n",
    "plt.show()"
   ]
  },
  {
   "cell_type": "markdown",
   "metadata": {},
   "source": [
    "搭建TensorFlow结构"
   ]
  },
  {
   "cell_type": "code",
   "execution_count": 4,
   "metadata": {
    "collapsed": false
   },
   "outputs": [
    {
     "name": "stdout",
     "output_type": "stream",
     "text": [
      "Tensor(\"Variable/read:0\", shape=(1,), dtype=float32)\n",
      "Tensor(\"Variable_1/read:0\", shape=(1,), dtype=float32)\n"
     ]
    }
   ],
   "source": [
    "Weights = tf.Variable(tf.random_uniform([1], -1.0, 1.0)) # 权重\n",
    "biases = tf.Variable(tf.zeros([1])) # 偏置\n",
    "print Weights\n",
    "print biases\n",
    "y = Weights*x_data + biases\n",
    "# 可以发现都为TensorFlow数据类型"
   ]
  },
  {
   "cell_type": "code",
   "execution_count": 5,
   "metadata": {
    "collapsed": false
   },
   "outputs": [],
   "source": [
    "loss = tf.reduce_mean(tf.square(y - y_data)) # 损失函数为预测值与真值差值平方的均值\n",
    "optimizer = tf.train.GradientDescentOptimizer(0.5) # 梯度下降\n",
    "train = optimizer.minimize(loss)"
   ]
  },
  {
   "cell_type": "code",
   "execution_count": 6,
   "metadata": {
    "collapsed": false
   },
   "outputs": [
    {
     "name": "stdout",
     "output_type": "stream",
     "text": [
      "[ 0.82031083]\n",
      "[ 0.]\n"
     ]
    }
   ],
   "source": [
    "# 初始化变量，非常重要，不要忘了\n",
    "init = tf.global_variables_initializer()\n",
    "\n",
    "with tf.Session() as sess: # 使用这种写法在运行完Session之后就会自动close\n",
    "    sess.run(init) # 运行完初始化之后，就可以运行下面的函数了。。将函数头指针传递给run\n",
    "    print sess.run(Weights) # 每次输出的结果都不一样，因为我定义的为-1到1的随机数\n",
    "    print sess.run(biases)"
   ]
  },
  {
   "cell_type": "code",
   "execution_count": 7,
   "metadata": {
    "collapsed": false
   },
   "outputs": [
    {
     "name": "stdout",
     "output_type": "stream",
     "text": [
      "0 ------> [ 0.81413007] [-0.12773143]\n",
      "20 ------> [ 0.27405071] [ 0.20625322]\n",
      "40 ------> [ 0.141378] [ 0.27771309]\n",
      "60 ------> [ 0.10983703] [ 0.29470161]\n",
      "80 ------> [ 0.1023386] [ 0.29874039]\n",
      "100 ------> [ 0.10055596] [ 0.29970056]\n",
      "120 ------> [ 0.10013218] [ 0.29992881]\n",
      "140 ------> [ 0.10003142] [ 0.29998308]\n",
      "160 ------> [ 0.10000747] [ 0.29999599]\n",
      "180 ------> [ 0.10000179] [ 0.29999906]\n"
     ]
    }
   ],
   "source": [
    "# 这里运行最小化 梯度下降法，优化变量\n",
    "with tf.Session() as sess:\n",
    "    sess.run(init) # 先初始化变量\n",
    "    for step in range(200):# 优化200次\n",
    "        sess.run(train) # 运行一次梯度下降\n",
    "        if step % 20 == 0:\n",
    "            print step, '------>', sess.run(Weights), sess.run(biases)"
   ]
  },
  {
   "cell_type": "markdown",
   "metadata": {},
   "source": [
    "运行完之后，发现权重为0.1，偏置为0.3。与真值一样"
   ]
  },
  {
   "cell_type": "code",
   "execution_count": null,
   "metadata": {
    "collapsed": true
   },
   "outputs": [],
   "source": []
  }
 ],
 "metadata": {
  "anaconda-cloud": {},
  "kernelspec": {
   "display_name": "Python [conda root]",
   "language": "python",
   "name": "conda-root-py"
  },
  "language_info": {
   "codemirror_mode": {
    "name": "ipython",
    "version": 2
   },
   "file_extension": ".py",
   "mimetype": "text/x-python",
   "name": "python",
   "nbconvert_exporter": "python",
   "pygments_lexer": "ipython2",
   "version": "2.7.12"
  }
 },
 "nbformat": 4,
 "nbformat_minor": 1
}
